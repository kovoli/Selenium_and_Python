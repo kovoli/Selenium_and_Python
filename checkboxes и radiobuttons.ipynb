{
 "cells": [
  {
   "cell_type": "code",
   "execution_count": 5,
   "metadata": {
    "collapsed": true,
    "pycharm": {
     "is_executing": false
    }
   },
   "outputs": [],
   "source": [
    "from selenium import webdriver\n",
    "import time, math\n",
    "\n",
    "def calc(x):\n",
    "  return str(math.log(abs(12*math.sin(int(x)))))\n",
    "\n",
    "try:\n",
    "    link = \"http://suninjuly.github.io/math.html\"\n",
    "    browser = webdriver.Firefox()\n",
    "    browser.get(link)\n",
    "    \n",
    "    x_element = browser.find_element_by_id('input_value')\n",
    "    x = x_element.text\n",
    "    y = calc(x)\n",
    "    \n",
    "    input_calc_sum = browser.find_element_by_id('answer')\n",
    "    input_calc_sum.send_keys(y)\n",
    "    \n",
    "    option1 = browser.find_element_by_id(\"robotCheckbox\")\n",
    "    option1.click()\n",
    "    \n",
    "    option2 = browser.find_element_by_id(\"robotsRule\")\n",
    "    option2.click()\n",
    "\n",
    "    # Отправляем заполненную форму\n",
    "    button = browser.find_element_by_css_selector(\"button.btn\")\n",
    "    button.click()\n",
    "\n",
    "    # Проверяем, что смогли зарегистрироваться\n",
    "    # ждем загрузки страницы\n",
    "    time.sleep(1)\n",
    "\n",
    "\n",
    "finally:\n",
    "    # ожидание чтобы визуально оценить результаты прохождения скрипта\n",
    "    time.sleep(10)\n",
    "    # закрываем браузер после всех манипуляций\n",
    "    browser.quit()\n",
    "\n",
    "\n"
   ]
  }
 ],
 "metadata": {
  "kernelspec": {
   "display_name": "Python 3",
   "language": "python",
   "name": "python3"
  },
  "language_info": {
   "codemirror_mode": {
    "name": "ipython",
    "version": 2
   },
   "file_extension": ".py",
   "mimetype": "text/x-python",
   "name": "python",
   "nbconvert_exporter": "python",
   "pygments_lexer": "ipython2",
   "version": "2.7.6"
  },
  "pycharm": {
   "stem_cell": {
    "cell_type": "raw",
    "source": [],
    "metadata": {
     "collapsed": false
    }
   }
  }
 },
 "nbformat": 4,
 "nbformat_minor": 0
}