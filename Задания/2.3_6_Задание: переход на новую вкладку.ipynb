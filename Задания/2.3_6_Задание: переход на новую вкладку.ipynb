{
 "cells": [
  {
   "cell_type": "code",
   "execution_count": 1,
   "metadata": {
    "collapsed": true,
    "pycharm": {
     "is_executing": false
    }
   },
   "outputs": [
    {
     "name": "stdout",
     "text": [
      "28.920319270324196\n"
     ],
     "output_type": "stream"
    }
   ],
   "source": [
    "from selenium import webdriver\n",
    "from math import log, sin\n",
    "import time\n",
    "\n",
    "\n",
    "browser = webdriver.Firefox()\n",
    "browser.get('http://suninjuly.github.io/redirect_accept.html')\n",
    "\n",
    "try:\n",
    "    browser.find_element_by_css_selector('button.trollface').click()\n",
    "    browser.switch_to.window(browser.window_handles[1])\n",
    "    time.sleep(1)\n",
    "    x = int(browser.find_element_by_id('input_value').text)\n",
    "    browser.find_element_by_id('answer').send_keys(str(log(abs(12*sin(x)))))\n",
    "    browser.find_element_by_css_selector('button.btn').click()\n",
    "    answer = browser.switch_to.alert\n",
    "    print(answer.text.split(': ')[-1])\n",
    "    answer.accept()\n",
    "    \n",
    "    \n",
    "finally:\n",
    "    time.sleep(3)\n",
    "    browser.quit()\n",
    "\n"
   ]
  }
 ],
 "metadata": {
  "kernelspec": {
   "display_name": "Python 3",
   "language": "python",
   "name": "python3"
  },
  "language_info": {
   "codemirror_mode": {
    "name": "ipython",
    "version": 2
   },
   "file_extension": ".py",
   "mimetype": "text/x-python",
   "name": "python",
   "nbconvert_exporter": "python",
   "pygments_lexer": "ipython2",
   "version": "2.7.6"
  },
  "pycharm": {
   "stem_cell": {
    "cell_type": "raw",
    "source": [],
    "metadata": {
     "collapsed": false
    }
   }
  }
 },
 "nbformat": 4,
 "nbformat_minor": 0
}