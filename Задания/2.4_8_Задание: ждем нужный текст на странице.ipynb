{
 "cells": [
  {
   "cell_type": "code",
   "execution_count": 1,
   "metadata": {
    "collapsed": true,
    "pycharm": {
     "is_executing": false
    }
   },
   "outputs": [
    {
     "name": "stdout",
     "text": [
      "28.96361223812855\n"
     ],
     "output_type": "stream"
    }
   ],
   "source": [
    "from selenium.webdriver.common.by import By\n",
    "from selenium.webdriver.support.ui import WebDriverWait\n",
    "from selenium.webdriver.support import expected_conditions as EC\n",
    "from selenium import webdriver\n",
    "import time\n",
    "from math import log, sin\n",
    "browser = webdriver.Firefox()\n",
    "\n",
    "browser.get(\"http://suninjuly.github.io/explicit_wait2.html\")\n",
    "\n",
    "\n",
    "a = browser.find_element(By.CLASS_NAME, 'card-title').text\n",
    "# говорим Selenium проверять в течение 5 секунд, пока кнопка не станет кликабельной\n",
    "text = WebDriverWait(browser, 12).until(\n",
    "        EC.text_to_be_present_in_element((By.ID, \"price\"), '100')\n",
    "    )\n",
    "if text:\n",
    "    browser.find_element_by_id('book').click()\n",
    "\n",
    "x = int(browser.find_element_by_id('input_value').text)\n",
    "browser.find_element_by_id('answer').send_keys(str(log(abs(12*sin(x)))))\n",
    "browser.find_element_by_id('solve').click()\n",
    "\n",
    "alert = browser.switch_to.alert\n",
    "print(alert.text.split(': ')[-1])\n",
    "\n",
    "time.sleep(5)\n",
    "#message = browser.find_element_by_id(\"verify_message\")\n",
    "\n",
    "#assert \"successful\" in message.text\n",
    "\n",
    "browser.quit()"
   ]
  }
 ],
 "metadata": {
  "kernelspec": {
   "display_name": "Python 3",
   "language": "python",
   "name": "python3"
  },
  "language_info": {
   "codemirror_mode": {
    "name": "ipython",
    "version": 2
   },
   "file_extension": ".py",
   "mimetype": "text/x-python",
   "name": "python",
   "nbconvert_exporter": "python",
   "pygments_lexer": "ipython2",
   "version": "2.7.6"
  },
  "pycharm": {
   "stem_cell": {
    "cell_type": "raw",
    "source": [],
    "metadata": {
     "collapsed": false
    }
   }
  }
 },
 "nbformat": 4,
 "nbformat_minor": 0
}