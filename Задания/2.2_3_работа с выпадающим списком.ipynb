{
 "cells": [
  {
   "cell_type": "code",
   "execution_count": 1,
   "metadata": {
    "collapsed": true,
    "pycharm": {
     "is_executing": false
    }
   },
   "outputs": [],
   "source": [
    "from selenium import webdriver\n",
    "import time"
   ]
  },
  {
   "cell_type": "code",
   "execution_count": 3,
   "outputs": [],
   "source": [
    "link = 'http://suninjuly.github.io/selects1.html'\n",
    "\n",
    "try:\n",
    "    browser = webdriver.Firefox()\n",
    "    browser.get(link)\n",
    "    \n",
    "    summa = []\n",
    "    for i in ['num1', 'num2']:\n",
    "        summa.append(int(browser.find_element_by_id(i).text))\n",
    "    \n",
    "    a = str(sum(summa))\n",
    "    browser.find_element_by_tag_name('select').click()\n",
    "    browser.find_element_by_css_selector(f\"[value='{a}']\").click()\n",
    "    browser.find_element_by_css_selector('button.btn').click()\n",
    "    \n",
    "finally:\n",
    "    time.sleep(5)\n",
    "    browser.quit()"
   ],
   "metadata": {
    "collapsed": false,
    "pycharm": {
     "name": "#%%\n",
     "is_executing": false
    }
   }
  }
 ],
 "metadata": {
  "kernelspec": {
   "display_name": "Python 3",
   "language": "python",
   "name": "python3"
  },
  "language_info": {
   "codemirror_mode": {
    "name": "ipython",
    "version": 2
   },
   "file_extension": ".py",
   "mimetype": "text/x-python",
   "name": "python",
   "nbconvert_exporter": "python",
   "pygments_lexer": "ipython2",
   "version": "2.7.6"
  },
  "pycharm": {
   "stem_cell": {
    "cell_type": "raw",
    "source": [],
    "metadata": {
     "collapsed": false
    }
   }
  }
 },
 "nbformat": 4,
 "nbformat_minor": 0
}