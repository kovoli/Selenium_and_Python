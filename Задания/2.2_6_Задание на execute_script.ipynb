{
 "cells": [
  {
   "cell_type": "code",
   "execution_count": 6,
   "metadata": {
    "collapsed": true,
    "pycharm": {
     "is_executing": false
    }
   },
   "outputs": [],
   "source": [
    "from selenium import webdriver\n",
    "from math import log, sin\n",
    "import time\n",
    "\n",
    "def calc_x(x):\n",
    "    return log(abs(12*sin(x)))\n",
    "\n",
    "\n",
    "\n",
    "try:\n",
    "    browser = webdriver.Firefox()\n",
    "    link = \"http://suninjuly.github.io/execute_script.html\"\n",
    "    browser.get(link)\n",
    "    \n",
    "    x = int(browser.find_element_by_id('input_value').text)\n",
    "    browser.find_element_by_id('answer').send_keys(str(calc_x(x)))\n",
    "    \n",
    "    input_x = browser.find_element_by_id('answer')\n",
    "    browser.execute_script(\"return arguments[0].scrollIntoView(true);\", input_x)\n",
    "    time.sleep(1)\n",
    "    \n",
    "    for i in ['robotCheckbox', 'robotsRule']:\n",
    "        browser.find_element_by_id(i).click()\n",
    "        \n",
    "    button = browser.find_element_by_css_selector('button.btn')\n",
    "    button.click()\n",
    "    \n",
    "finally:\n",
    "    time.sleep(5)\n",
    "    browser.quit()\n",
    "\n",
    "\n",
    "\n"
   ]
  }
 ],
 "metadata": {
  "kernelspec": {
   "display_name": "Python 3",
   "language": "python",
   "name": "python3"
  },
  "language_info": {
   "codemirror_mode": {
    "name": "ipython",
    "version": 2
   },
   "file_extension": ".py",
   "mimetype": "text/x-python",
   "name": "python",
   "nbconvert_exporter": "python",
   "pygments_lexer": "ipython2",
   "version": "2.7.6"
  },
  "pycharm": {
   "stem_cell": {
    "cell_type": "raw",
    "source": [],
    "metadata": {
     "collapsed": false
    }
   }
  }
 },
 "nbformat": 4,
 "nbformat_minor": 0
}