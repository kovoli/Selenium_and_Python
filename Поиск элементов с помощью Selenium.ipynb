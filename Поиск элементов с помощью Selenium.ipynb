{
 "cells": [
  {
   "cell_type": "markdown",
   "metadata": {
    "collapsed": true,
    "pycharm": {
     "name": "#%% md\n"
    }
   },
   "source": [
    "# Поиск элементов с помощью Selenium"
   ]
  },
  {
   "cell_type": "markdown",
   "metadata": {},
   "source": [
    "- find_element_by_id - поиск по уникальному атрибуту id элемента. \n",
    "  Если ваши разработчики проставляют всем элементам в приложении уникальный id, \n",
    "  то вам повезло, и вы чаще всего будет использовать этот метод, так как он наиболее стабильный;\n",
    "- find_element_by_css_selector - поиск элемента с помощью правил на основе CSS. Это универсальный метод поиска, \n",
    "  так как большинство веб-приложений использует CSS для вёрстки и задания оформления страницам. \n",
    "  Если find_element_by_id вам не подходит из-за отсутствия id у элементов, то скорее всего вы будете использовать \n",
    "  именно этот метод в ваших тестах;\n",
    "\n",
    "- find_element_by_xpath - поиск с помощью языка запросов XPath, позволяет выполнять очень гибкий поиск элементов;\n",
    "- find_element_by_name - поиск по атрибуту name элемента;\n",
    "- find_element_by_tag_name - поиск элемента по названию тега элемента;\n",
    "- find_element_by_class_name - поиск по значению атрибута class;\n",
    "- find_element_by_link_text - поиск ссылки на странице по полному совпадению;\n",
    "- find_element_by_partial_link_text - поиск ссылки на странице, если текст селектора совпадает с любой частью текста ссылки."
   ]
  },
  {
   "cell_type": "code",
   "execution_count": 2,
   "metadata": {
    "pycharm": {
     "is_executing": false,
     "name": "#%%\n"
    }
   },
   "outputs": [],
   "source": [
    "# Например, мы хотим найти кнопку со значением id=\"submit_button\":\n",
    "from selenium import webdriver\n",
    "\n",
    "browser = webdriver.Firefox()\n",
    "browser.get(\"http://suninjuly.github.io/simple_form_find_task.html\")\n",
    "button = browser.find_element_by_id(\"submit_button\")\n",
    "\n",
    "# закрываем браузер после всех манипуляций\n",
    "browser.quit()"
   ]
  },
  {
   "cell_type": "code",
   "execution_count": 5,
   "metadata": {
    "pycharm": {
     "is_executing": false,
     "name": "#%%\n"
    }
   },
   "outputs": [],
   "source": [
    "#Есть второй способ для поиска элементов с помощью универсального метода \n",
    "# find_element() и полей класса By из библиотеки selenium. Пример:\n",
    "\n",
    "from selenium import webdriver\n",
    "\n",
    "from selenium.webdriver.common.by import By\n",
    "\n",
    "browser = webdriver.Firefox()\n",
    "browser.get(\"http://suninjuly.github.io/simple_form_find_task.html\")\n",
    "button = browser.find_element(By.ID, \"submit_button\")\n",
    "\n",
    "button.click()\n",
    "# закрываем браузер после всех манипуляций\n",
    "browser.quit()"
   ]
  },
  {
   "cell_type": "markdown",
   "metadata": {
    "pycharm": {
     "name": "#%% raw\n"
    }
   },
   "source": [
    "### Поля класса By, которые можно использовать для поиска:\n",
    "\n",
    "- By.ID – поиск по уникальному атрибуту id элемента;\n",
    "- By.CSS_SELECTOR – поиск элементов с помощью правил на основе CSS;\n",
    "- By.XPATH – поиск элементов с помощью языка запросов XPath;\n",
    "- By.NAME – поиск по атрибуту name элемента;\n",
    "- By.TAG_NAME – поиск по названию тега;\n",
    "- By.CLASS_NAME – поиск по атрибуту class элемента;\n",
    "- By.LINK_TEXT – поиск ссылки с указанным текстом. Текст ссылки должен быть точным совпадением;\n",
    "- By.PARTIAL_LINK_TEXT – поиск ссылки по частичному совпадению текста.\n",
    "\n",
    "\n",
    "\n",
    "\n"
   ]
  }
 ],
 "metadata": {
  "kernelspec": {
   "display_name": "Python 3",
   "language": "python",
   "name": "python3"
  },
  "language_info": {
   "codemirror_mode": {
    "name": "ipython",
    "version": 3
   },
   "file_extension": ".py",
   "mimetype": "text/x-python",
   "name": "python",
   "nbconvert_exporter": "python",
   "pygments_lexer": "ipython3",
   "version": "3.7.4"
  },
  "pycharm": {
   "stem_cell": {
    "cell_type": "raw",
    "metadata": {
     "collapsed": false
    },
    "source": []
   }
  }
 },
 "nbformat": 4,
 "nbformat_minor": 1
}
