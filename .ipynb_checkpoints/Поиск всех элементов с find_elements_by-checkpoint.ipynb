{
 "cells": [
  {
   "cell_type": "markdown",
   "metadata": {
    "collapsed": true,
    "pycharm": {
     "name": "#%% md\n"
    }
   },
   "source": [
    "# Поиск всех необходимых элементов с помощью find_elements_by"
   ]
  },
  {
   "cell_type": "raw",
   "metadata": {
    "pycharm": {
     "name": "#%% raw\n"
    }
   },
   "source": [
    "Мы уже упоминали, что метод find_element_by возвращает только первый из всех элементов, \n",
    "которые подходят под условия поиска. Иногда возникает ситуация, когда у нас есть несколько одинаковых \n",
    "по сути объектов на странице, например, иконки товаров в корзине интернет-магазина. В тесте нам нужно проверить, \n",
    "что отображаются все выбранные для покупки товары. Для этого существуют методы find_elements_by, которые в \n",
    "отличие от find_element_by вернут список всех найденных элементов по заданному условию. Проверив длину списка, \n",
    "мы можем удостовериться, что в корзине отобразилось правильное количество товаров. Пример кода \n",
    "(код приведен только для примера, сайта fake-shop.com скорее всего не существует):"
   ]
  },
  {
   "cell_type": "code",
   "execution_count": null,
   "metadata": {
    "pycharm": {
     "name": "#%%\n"
    }
   },
   "outputs": [],
   "source": [
    "# подготовка для теста\n",
    "# открываем страницу первого товара\n",
    "# данный сайт не существует, этот код приведен только для примера\n",
    "browser.get(\"https://fake-shop.com/book1.html\")\n",
    "\n",
    "# добавляем товар в корзину\n",
    "add_button = browser.find_element_by_css_selector(\".add\")\n",
    "add_button.click()\n",
    "\n",
    "# открываем страницу второго товара\n",
    "browser.get(\"https://fake-shop.com/book2.html\")\n",
    "\n",
    "# добавляем товар в корзину\n",
    "add_button = browser.find_element_by_css_selector(\".add\")\n",
    "add_button.click()\n",
    "\n",
    "# тестовый сценарий\n",
    "# открываем корзину\n",
    "browser.get(\"https://fake-shop.com/basket.html\")\n",
    "\n",
    "# ищем все добавленные товары\n",
    "goods = browser.find_elements_by_css_selector(\".good\")\n",
    "\n",
    "# проверяем, что количество товаров равно 2\n",
    "assert len(goods) == 2"
   ]
  },
  {
   "cell_type": "raw",
   "metadata": {},
   "source": [
    "Набор стратегий здесь такой же, как и в случае с find_element_by:\n",
    "\n",
    "find_elements_by_css_selector;\n",
    "find_elements_by_xpath;\n",
    "find_elements_by_name;\n",
    "find_elements_by_tag_name;\n",
    "find_elements_by_class_name;\n",
    "find_elements_by_link_text;\n",
    "find_elements_by_partial_link_text."
   ]
  },
  {
   "cell_type": "code",
   "execution_count": null,
   "metadata": {
    "pycharm": {
     "name": "#%%\n"
    }
   },
   "outputs": [],
   "source": [
    "# Также для поиска нескольких элементов мы можем использовать универсальный метод find_elements вместе с атрибутами класса By:\n",
    "\n",
    "from selenium.webdriver.common.by import By\n",
    "\n",
    "driver.find_elements(By.CSS_SELECTOR, \"button.submit\")"
   ]
  }
 ],
 "metadata": {
  "kernelspec": {
   "display_name": "Python 3",
   "language": "python",
   "name": "python3"
  },
  "language_info": {
   "codemirror_mode": {
    "name": "ipython",
    "version": 3
   },
   "file_extension": ".py",
   "mimetype": "text/x-python",
   "name": "python",
   "nbconvert_exporter": "python",
   "pygments_lexer": "ipython3",
   "version": "3.7.4"
  },
  "pycharm": {
   "stem_cell": {
    "cell_type": "raw",
    "metadata": {
     "collapsed": false
    },
    "source": []
   }
  }
 },
 "nbformat": 4,
 "nbformat_minor": 1
}
