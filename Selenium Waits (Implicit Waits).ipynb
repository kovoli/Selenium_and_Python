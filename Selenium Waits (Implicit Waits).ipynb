{
 "cells": [
  {
   "cell_type": "code",
   "execution_count": 2,
   "metadata": {
    "collapsed": true,
    "pycharm": {
     "is_executing": false
    }
   },
   "outputs": [],
   "source": [
    "from selenium import webdriver\n",
    "\n",
    "browser = webdriver.Firefox()\n",
    "# говорим WebDriver искать каждый элемент в течение 5 секунд\n",
    "browser.implicitly_wait(5)\n",
    "\n",
    "browser.get(\"http://suninjuly.github.io/wait1.html\")\n",
    "\n",
    "button = browser.find_element_by_id(\"verify\")\n",
    "button.click()\n",
    "message = browser.find_element_by_id(\"verify_message\")\n",
    "\n",
    "assert \"successful\" in message.text\n",
    "\n",
    "browser.quit()"
   ]
  }
 ],
 "metadata": {
  "kernelspec": {
   "display_name": "Python 3",
   "language": "python",
   "name": "python3"
  },
  "language_info": {
   "codemirror_mode": {
    "name": "ipython",
    "version": 2
   },
   "file_extension": ".py",
   "mimetype": "text/x-python",
   "name": "python",
   "nbconvert_exporter": "python",
   "pygments_lexer": "ipython2",
   "version": "2.7.6"
  },
  "pycharm": {
   "stem_cell": {
    "cell_type": "raw",
    "source": [],
    "metadata": {
     "collapsed": false
    }
   }
  }
 },
 "nbformat": 4,
 "nbformat_minor": 0
}